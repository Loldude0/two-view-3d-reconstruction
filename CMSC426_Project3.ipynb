{
 "cells": [
  {
   "cell_type": "markdown",
   "metadata": {
    "id": "ShO9M1By-1jl"
   },
   "source": [
    "*UID*:\n"
   ]
  },
  {
   "cell_type": "markdown",
   "metadata": {
    "id": "hCfjjKKhR83h"
   },
   "source": [
    "# **CMSC426 Project 3: From Pixels to 3D Worlds : Two-View 3D Reconstruction**"
   ]
  },
  {
   "cell_type": "markdown",
   "metadata": {
    "id": "oYiltHdjM_V_"
   },
   "source": [
    "# **Introduction**\n",
    "\n",
    "We've spent a lot of time working with images, mostly in 2D scenes. Remember Project 1, where we stitched images together by finding common features between them? Well, now it’s time to take things up a notch! Imagine being able to create a 3D view of a scene using just two images and figuring out exactly where the camera was positioned relative to that scene. Sounds exciting, right?\n",
    "\n",
    "This approach is actually a simplified version of something called Structure from Motion (SfM). While SfM usually involves reconstructing 3D structures from many images taken from different angles, we’ll start with something more manageable: Two-View Reconstruction. Instead of dealing with a whole collection of viewpoints, we’ll be focusing on building a 3D structure using only two images taken from different perspectives. The key idea? Matching features between these two images to reconstruct the scene in 3D and understand how the camera moved between shots.\n",
    "\n",
    "* Feature Matching\n",
    "* Outlier Rejection using RANSAC & Estimating the Fundamental Matrix\n",
    "*  Estimating the Essential Matrix from the Fundamental Matrix\n",
    "*  Estimating Camera Pose from the Essential Matrix\n",
    "* Checking for Cheirality Condition using Triangulation\n",
    "* Linear Triangulation of Points\n",
    "\n",
    "Reading Module : https://cmsc733.github.io/2022/proj/p3/\n",
    "\n",
    "Video Lecture : [link](https://drive.google.com/file/d/1KxBYehdtbVpH4A0vsNwbLpuLsGNqYH8F/view?usp=sharing)"
   ]
  },
  {
   "cell_type": "markdown",
   "metadata": {
    "id": "lmJWzv1N4T93"
   },
   "source": [
    "Allowed functions: Any functions regarding reading, writing and displaying/plotting images in cv2, matplotlib\n",
    "\n",
    "Basic math utitlies including convolution operations in numpy and math\n",
    "\n"
   ]
  },
  {
   "cell_type": "markdown",
   "metadata": {
    "id": "QbaNu-pjxEoY"
   },
   "source": [
    "# **Step 1: Feature Matching** [5 points]"
   ]
  },
  {
   "cell_type": "code",
   "execution_count": null,
   "metadata": {
    "colab": {
     "base_uri": "https://localhost:8080/"
    },
    "id": "DfI1tRh4uU4C",
    "outputId": "fafd8a94-7e6b-47ef-81db-f6199bc338b1"
   },
   "outputs": [
    {
     "data": {
      "text/plain": [
       "['/content/project3/feature_points.npz',\n",
       " '/content/project3/image1.jpg',\n",
       " '/content/project3/image2.jpg',\n",
       " '/content/project3/intrinsics.npz']"
      ]
     },
     "execution_count": 15,
     "metadata": {},
     "output_type": "execute_result"
    }
   ],
   "source": [
    "# Download data from Google Drive\n",
    "import gdown\n",
    "gdown.download_folder(id=\"1ROQl0NTBnxMjLrO5qISyxcTCJUPSMsRS\", quiet=True, use_cookies=False)\n"
   ]
  },
  {
   "cell_type": "code",
   "execution_count": null,
   "metadata": {
    "id": "Gf3el4FMVIoP"
   },
   "outputs": [],
   "source": [
    "def display_matches(img1, img2, pts1, pts2):\n",
    "    \"\"\"\n",
    "    Visualize the matching points between two images.\n",
    "\n",
    "    Input:\n",
    "        img1: Image 1 in numpy array format.\n",
    "        img2: Image 2 in numpy array format.\n",
    "        pts1: Matched points in Image 1 (numpy array of shape Nx2).\n",
    "        pts2: Matched points in Image 2 (numpy array of shape Nx2).\n",
    "    \"\"\""
   ]
  },
  {
   "cell_type": "code",
   "execution_count": null,
   "metadata": {
    "id": "W6IXq2AbuZAp"
   },
   "outputs": [],
   "source": [
    "def load_data(image1_path, image2_path,npz_path):\n",
    "    # Load images\n",
    "    img1 = cv2.imread(image1_path)\n",
    "    img2 = cv2.imread(image2_path)\n",
    "\n",
    "    # Load correspondences\n",
    "    data = np.load(npz_path)\n",
    "    pts1 = data['pts1']  # Nx2 array of points in the first image\n",
    "    pts2 = data['pts2']  # Nx2 array of points in the second image\n",
    "    return img1, img2,pts1, pts2"
   ]
  },
  {
   "cell_type": "code",
   "execution_count": null,
   "metadata": {
    "id": "dCpZegTnucgo"
   },
   "outputs": [],
   "source": [
    "import cv2\n",
    "import numpy as np\n",
    "import matplotlib.pyplot as plt\n",
    "# File paths\n",
    "image1_path = '/content/project3/image1.jpg'\n",
    "image2_path = '/content/project3/image2.jpg'\n",
    "npz_path = '/content/project3/feature_points.npz'\n",
    "intrinsics = np.load('/content/project3/intrinsics.npz')\n",
    "K1 = intrinsics['K1']\n",
    "K2 = intrinsics['K2']\n",
    "# Load and display matches\n",
    "img1, img2,pts1, pts2 = load_data(image1_path, image2_path,npz_path)\n",
    "\n",
    "display_matches(img1, img2, pts1, pts2)"
   ]
  },
  {
   "cell_type": "markdown",
   "metadata": {
    "id": "-cllpMGFwCcJ"
   },
   "source": [
    "<img src = \"https://drive.google.com/uc?export=view&id=1wD6L8Zl2FM75HLn8sy9ub-13ae4Jz0Hk\">\n"
   ]
  },
  {
   "cell_type": "markdown",
   "metadata": {
    "id": "O_mXzvCPVfSx"
   },
   "source": [
    "# **Step 2: Fundamental Matrix Estimation and RANSAC** [15 points]\n",
    "<img src=\"https://cmsc733.github.io/assets/2019/p3/ransac.png\">"
   ]
  },
  {
   "cell_type": "code",
   "execution_count": null,
   "metadata": {
    "id": "yb367guDVejd"
   },
   "outputs": [],
   "source": [
    "def estimate_Fmatrix(img1_pts, img2_pts):\n",
    "    \"\"\"\n",
    "    Estimate the Fundamental Matrix using matched points from two images.\n",
    "\n",
    "    Input:\n",
    "        img1_pts: Matched points from Image 1 (numpy array of shape Nx2).\n",
    "        img2_pts: Matched points from Image 2 (numpy array of shape Nx2).\n",
    "\n",
    "    Output:\n",
    "        F: Estimated Fundamental Matrix (3x3 numpy array).\n",
    "  \"\"\""
   ]
  },
  {
   "cell_type": "code",
   "execution_count": null,
   "metadata": {
    "id": "TWGhnnzzVMtT"
   },
   "outputs": [],
   "source": [
    "def ransac(pts1, pts2, iterations=1000, threshold=0.05):\n",
    "    \"\"\"\n",
    "    Apply RANSAC to estimate the Fundamental Matrix robustly.\n",
    "\n",
    "    Input:\n",
    "        pts1: Points from Image 1 (numpy array of shape Nx2).\n",
    "        pts2: Points from Image 2 (numpy array of shape Nx2).\n",
    "        iterations: Number of RANSAC iterations (int).\n",
    "        threshold: Distance threshold\n",
    "\n",
    "    Output:\n",
    "        img1_inliers: Inliers from Image 1 (numpy array of shape Mx2).\n",
    "        img2_inliers: Inliers from Image 2 (numpy array of shape Mx2).\n",
    "        best_F: Best Fundamental Matrix found (3x3 numpy array).\n",
    "    \"\"\""
   ]
  },
  {
   "cell_type": "code",
   "execution_count": null,
   "metadata": {
    "id": "11xbo7zQxm18"
   },
   "outputs": [],
   "source": [
    "#img1_points, img2_points, F = ransac(pts1, pts2)\n",
    "#print(\"Fundamental Matrix:\", F)"
   ]
  },
  {
   "cell_type": "markdown",
   "metadata": {
    "id": "4VDdMz1yVwhA"
   },
   "source": [
    "# **Draw epipolar lines** [10 points]"
   ]
  },
  {
   "cell_type": "code",
   "execution_count": null,
   "metadata": {
    "id": "ksD8k6KDVzsn"
   },
   "outputs": [],
   "source": [
    "def compute_epipolar_lines_manual(pts, F):\n",
    "    \"\"\"\n",
    "    Compute epipolar lines for given points using the Fundamental Matrix.\n",
    "\n",
    "    Input:\n",
    "        pts: Points in homogeneous coordinates (numpy array of shape Nx2).\n",
    "        F: Fundamental Matrix (3x3 numpy array).\n",
    "\n",
    "    Output:\n",
    "        lines: Epipolar lines in homogeneous form (Nx3 numpy array).\n",
    "\n",
    "    Comments:\n",
    "        - Converts points to homogeneous coordinates.\n",
    "        - Computes lines using the Fundamental Matrix.\n",
    "    \"\"\"\n",
    "\n",
    "\n",
    "# Function to draw epipolar lines on images\n",
    "def draw_epipolar_lines_img1_points_img2_lines(img1, img2, pts1, F):\n",
    "    \"\"\"\n",
    "    Draw epipolar lines on the second image for points from the first image.\n",
    "\n",
    "    Input:\n",
    "        img1: Image 1 in numpy array format.\n",
    "        img2: Image 2 in numpy array format.\n",
    "        pts1: Points in Image 1 (numpy array of shape Nx2).\n",
    "        F: Fundamental Matrix (3x3 numpy array).\n",
    "\n",
    "    \"\"\""
   ]
  },
  {
   "cell_type": "code",
   "execution_count": null,
   "metadata": {
    "id": "MO7o341AxseF"
   },
   "outputs": [],
   "source": [
    "# Draw epipolar lines based on the fundamental matrix\n",
    "#draw_epipolar_lines_img1_points_img2_lines(img1, img2, img1_points, F)"
   ]
  },
  {
   "cell_type": "markdown",
   "metadata": {
    "id": "gTzBKaF22Cfk"
   },
   "source": [
    "<img src = \"https://drive.google.com/uc?export=view&id=1dx0RYxKdiYxuajkIbJhCaVPbYuTjM7Ss\">\n"
   ]
  },
  {
   "cell_type": "markdown",
   "metadata": {
    "id": "jGB9ojnLWAX4"
   },
   "source": [
    "# **Step 3: Estimate Essential Matrix E** [15 points]\n",
    "\n"
   ]
  },
  {
   "cell_type": "code",
   "execution_count": null,
   "metadata": {
    "id": "R2R8kccNWJZR"
   },
   "outputs": [],
   "source": [
    "def estimate_Essentialmatrix(K1, K2, F):\n",
    "    \"\"\"\n",
    "    Estimate the Essential Matrix using camera intrinsics and the Fundamental Matrix.\n",
    "\n",
    "    Input:\n",
    "        K1: Intrinsic matrix of Camera 1 (3x3 numpy array).\n",
    "        K2: Intrinsic matrix of Camera 2 (3x3 numpy array).\n",
    "        F: Fundamental Matrix (3x3 numpy array).\n",
    "\n",
    "    Output:\n",
    "        E: Estimated Essential Matrix (3x3 numpy array).\n",
    "\n",
    "    Comments:\n",
    "        - Computes the Essential Matrix as E = K2.T * F * K\n",
    "    \"\"\"\n",
    "\n",
    "    E = K2.T @ F @ K1\n",
    "        \n",
    "    # SVD\n",
    "    U, S, Vt = np.linalg.svd(E)\n",
    "    \n",
    "    diag = np.array([[1, 0, 0],\n",
    "                    [0, 1, 0],\n",
    "                    [0, 0, 0]])\n",
    "    \n",
    "    \n",
    "    E = U @ diag @ Vt\n",
    "    \n",
    "    # normalize\n",
    "    # E = E / np.linalg.norm(E)\n",
    "    \n",
    "    return E"
   ]
  },
  {
   "cell_type": "code",
   "execution_count": null,
   "metadata": {
    "id": "I5F6VVji4BoP"
   },
   "outputs": [],
   "source": [
    "# E = estimate_Essentialmatrix(K1, K2, F)\n",
    "# print(\"Essential Matrix E:\",E )"
   ]
  },
  {
   "cell_type": "markdown",
   "metadata": {
    "id": "Xx1jD0DEWM7s"
   },
   "source": [
    "# **Step 4: Extracting Poses form E matrix** [20 points]\n",
    "<img src = \"https://drive.google.com/uc?export=view&id=1vizqzdm0gB4sRWQSrvZZPjwezW2OG5tE\">\n",
    "\n",
    "\n"
   ]
  },
  {
   "cell_type": "code",
   "execution_count": null,
   "metadata": {
    "id": "IMB4pY1iWijh"
   },
   "outputs": [],
   "source": [
    "def get_RTset(E):\n",
    "    \"\"\"\n",
    "    Extract possible sets of rotation (R) and translation (T) from the Essential Matrix.\n",
    "\n",
    "    Input:\n",
    "        E: Essential Matrix (3x3 numpy array).\n",
    "\n",
    "    Output:\n",
    "        R: List of possible rotation matrices (4x 3x3 numpy arrays).\n",
    "        T: List of possible translation vectors (4x 3x1 numpy arrays).\n",
    "\n",
    "    Comments:\n",
    "        - Uses SVD decomposition of the Essential Matrix.\n",
    "        - Constructs four possible (R, T) pairs and ensures valid rotations\n",
    "    \"\"\"\n",
    "\n",
    "    U, _, Vt = np.linalg.svd(E)\n",
    "\n",
    "    if np.linalg.det(U) < 0:\n",
    "        U = -U\n",
    "    if np.linalg.det(Vt) < 0:\n",
    "        Vt = -Vt\n",
    "\n",
    "    W = np.array([[0, -1, 0],\n",
    "                  [1,  0, 0],\n",
    "                  [0,  0, 1]])\n",
    "    \n",
    "    # Initialize empty lists for poses\n",
    "    R = []\n",
    "    t = []\n",
    "\n",
    "    t_raw = U[:, 2].reshape(3, 1)\n",
    "    \n",
    "    R1 = U @ W @ Vt\n",
    "    if np.linalg.det(R1) < 0:\n",
    "        R1 = -R1\n",
    "        t1 = -t_raw\n",
    "    else:\n",
    "        t1 = t_raw\n",
    "    R.append(R1)\n",
    "    t.append(t1)\n",
    "    \n",
    "    # Second pair\n",
    "    R.append(R1)\n",
    "    t.append(-t1)\n",
    "    \n",
    "    # Third pair\n",
    "    R3 = U @ W.T @ Vt\n",
    "    if np.linalg.det(R3) < 0:\n",
    "        R3 = -R3\n",
    "        t3 = -t_raw\n",
    "    else:\n",
    "        t3 = t_raw\n",
    "    R.append(R3)\n",
    "    t.append(t3)\n",
    "    \n",
    "    # Fourth pair\n",
    "    R.append(R3)\n",
    "    t.append(-t3)\n",
    "    \n",
    "    return R, t\n",
    "    "
   ]
  },
  {
   "cell_type": "markdown",
   "metadata": {
    "id": "EjF3yPgSWvO6"
   },
   "source": [
    "# **Step 5: Linear Triangulation** [15 points]\n"
   ]
  },
  {
   "cell_type": "code",
   "execution_count": null,
   "metadata": {
    "id": "_nXTPJXOWzG3"
   },
   "outputs": [],
   "source": [
    "def linear_triangulation(R_Set, T_Set, pt1, pt2, k):\n",
    "    \"\"\"\n",
    "    Perform linear triangulation to estimate 3D points.\n",
    "\n",
    "    Input:\n",
    "        R_Set: List of possible rotation matrices (4x 3x3 numpy arrays).\n",
    "        T_Set: List of possible translation vectors (4x 3x1 numpy arrays).\n",
    "        pt1: Points in Image 1 (numpy array of shape Nx2).\n",
    "        pt2: Points in Image 2 (numpy array of shape Nx2).\n",
    "        k: Camera intrinsic matrix (3x3 numpy array).\n",
    "\n",
    "    Output:\n",
    "        points_3d_set: List of 3D points for each (R, T) pair.\n",
    "\n",
    "    Comments:\n",
    "        - Triangulates 3D points for each (R, T) pair."
   ]
  },
  {
   "cell_type": "markdown",
   "metadata": {
    "id": "KfA6OPOdW9rc"
   },
   "source": [
    "# **Step 6: Cheriality condition** [20 points]"
   ]
  },
  {
   "cell_type": "code",
   "execution_count": null,
   "metadata": {
    "id": "bxQZNaFHXA7R"
   },
   "outputs": [],
   "source": [
    "# Function to select the best pose (R, T) based on the chirality condition\n",
    "def extract_pose(R_set, T_set, pts_3d_set):\n",
    "    \"\"\"\n",
    "    Select the best pose (R, T) that satisfies the chirality condition.\n",
    "\n",
    "    Input:\n",
    "        R_set: List of possible rotation matrices (4x 3x3 numpy arrays).\n",
    "        T_set: List of possible translation vectors (4x 3x1 numpy arrays).\n",
    "        pts_3d_set: List of 3D point sets for each (R, T) pair.\n",
    "\n",
    "    Output:\n",
    "        R_best: Best rotation matrix (3x3 numpy array).\n",
    "        T_best: Best translation vector (3x1 numpy array).\n",
    "        X_best: Best 3D points (Nx3 numpy array).\n",
    "        index: Index of the best (R, T) pair.\n",
    "\n",
    "    \"\"\""
   ]
  },
  {
   "cell_type": "code",
   "execution_count": null,
   "metadata": {
    "id": "HU4DMdEKXPUI"
   },
   "outputs": [],
   "source": [
    "def compute_cheriality(pt, r3, t):\n",
    "    \"\"\"\n",
    "    Compute the chirality condition to determine if points are in front of the camera.\n",
    "\n",
    "    Input:\n",
    "        pt: 3D points (Nx3 numpy array).\n",
    "        r3: Third row of the rotation matrix (1x3 numpy array).\n",
    "        t: Translation vector (3x1 numpy array).\n",
    "\n",
    "    Output:\n",
    "        count_depth: Number of points with positive depth.\n",
    "\n",
    "    \"\"\"\n"
   ]
  },
  {
   "cell_type": "code",
   "execution_count": null,
   "metadata": {
    "id": "XJGOsKFv5sUG"
   },
   "outputs": [],
   "source": [
    "#Linear Triangulation\n",
    "#point3D_set = linear_triangulation(R_set,T_set,img1_points,img2_points,K1)\n",
    "\n",
    "#TO-DO: Plot all poses with 3D points as shown in figure\n",
    "\n"
   ]
  },
  {
   "cell_type": "markdown",
   "metadata": {
    "id": "VkWAp-eOFB5z"
   },
   "source": [
    "<img src = \"https://drive.google.com/uc?export=view&id=186Z0ei48e8SV-lEajldKhtilU4r_vdQI\">\n"
   ]
  },
  {
   "cell_type": "code",
   "execution_count": null,
   "metadata": {
    "id": "7k7ms2J0FNjM"
   },
   "outputs": [],
   "source": [
    " #Get pose of camera using chirality condition\n",
    "#R_best, T_best,X_ ,index= extract_pose(R_set,T_set,point3D_set)\n",
    "\n",
    "\n",
    "#TO-DO: Plot 3D point cloud with RGB color as shown in figure"
   ]
  },
  {
   "cell_type": "markdown",
   "metadata": {
    "id": "hJdteKWGFPHy"
   },
   "source": [
    "<img src = \"https://drive.google.com/uc?export=view&id=1KH5L6sUD0d291MAt9OZ2zHecIinTUoXR\">\n"
   ]
  },
  {
   "cell_type": "markdown",
   "metadata": {
    "id": "nuUet9343weN"
   },
   "source": [
    "# **Extra Credit: Reconstruct Your Own Scene! (30 Points)**\n",
    "\n",
    "For this part, you will run an off-the-shelf incremental SfM toolbox such as [COLMAP](https://github.com/colmap/pycolmap) on your own captured multi-view images. Please submit a GIF of the reconstructed 3D structure and the location of the cameras.\n",
    "\n",
    "For this reconstruction, you can choose your own data. This data could either be a sequence with rigid objects (e.g., a mug or a vase from your vicinity) or any scene you wish to reconstruct in 3D.\n",
    "\n",
    "\n",
    "Submission:\n",
    "\n",
    "A gif to visualize the reconstruction of the scene and location of cameras.\n",
    "<img src = \"https://drive.google.com/uc?export=view&id=1MmeeYX77xcQlDVzsDRWyusD8XMO2AY-m\">"
   ]
  },
  {
   "cell_type": "markdown",
   "metadata": {
    "id": "YbLVmVStFuFp"
   },
   "source": [
    "## Report\n",
    "You will be graded primarily based on your report.\n",
    "A demonstration of understanding of the concepts involved in the project are required show the output produced by your code.\n",
    "\n",
    "Include visualizations of the output of each stage in your pipeline (as shown in the system diagram on page 2), and a description of what you did for each step. Assume that we’re familiar with the project, so you don’t need to spend time repeating what’s already in the course notes. Instead, focus on any interesting problems you encountered and/or solutions you implemented."
   ]
  },
  {
   "cell_type": "markdown",
   "metadata": {
    "id": "OkqHKTebLX6g"
   },
   "source": [
    "# Submission Guidelines\n",
    "\n",
    "**If your submission does not comply with the following guidelines, you’ll be given ZERO credit.**"
   ]
  },
  {
   "cell_type": "code",
   "execution_count": null,
   "metadata": {
    "id": "uEerqCgCWglw"
   },
   "outputs": [],
   "source": []
  },
  {
   "cell_type": "markdown",
   "metadata": {
    "id": "g-Gcl_0OLmPA"
   },
   "source": [
    "Your submission on ELMS(Canvas) must be a pdf file, following the naming convention **YourDirectoryID_proj3.pdf**. For example, xyz123_proj3.pdf.\n",
    "\n",
    "**All your results and report should be included in this notebook. After you finished all, please export the notebook as a pdf file and submit it to ELMS(Canvas).**"
   ]
  },
  {
   "cell_type": "markdown",
   "metadata": {
    "id": "HRz1NLl59LOn"
   },
   "source": [
    "# Collaboration Policy\n",
    "You are encouraged to discuss the ideas with your peers. However, the code should be your own, and should be the result of you exercising your own understanding of it. If you reference anyone else’s code in writing your project, you must properly cite it in your code (in comments) and your writeup. For the full honor code refer to the CMSC426 Fall 2023 website."
   ]
  },
  {
   "cell_type": "markdown",
   "metadata": {
    "id": "Fzm58nx_4EVi"
   },
   "source": [
    "Project Inspiration Credit to CMSC733 COmputer Vision and 16-822: Geometry-based Methods in Vision\n"
   ]
  }
 ],
 "metadata": {
  "colab": {
   "provenance": []
  },
  "kernelspec": {
   "display_name": "Python 3",
   "name": "python3"
  },
  "language_info": {
   "name": "python"
  }
 },
 "nbformat": 4,
 "nbformat_minor": 0
}
